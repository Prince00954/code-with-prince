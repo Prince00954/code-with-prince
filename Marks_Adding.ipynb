{
  "nbformat": 4,
  "nbformat_minor": 0,
  "metadata": {
    "colab": {
      "provenance": [],
      "authorship_tag": "ABX9TyM3tIw7UPEOH6+OAAoTic2j",
      "include_colab_link": true
    },
    "kernelspec": {
      "name": "python3",
      "display_name": "Python 3"
    },
    "language_info": {
      "name": "python"
    }
  },
  "cells": [
    {
      "cell_type": "markdown",
      "metadata": {
        "id": "view-in-github",
        "colab_type": "text"
      },
      "source": [
        "<a href=\"https://colab.research.google.com/github/Prince00954/code-with-prince/blob/main/Marks_Adding.ipynb\" target=\"_parent\"><img src=\"https://colab.research.google.com/assets/colab-badge.svg\" alt=\"Open In Colab\"/></a>"
      ]
    },
    {
      "cell_type": "code",
      "execution_count": null,
      "metadata": {
        "id": "5G2fd27e4HEC"
      },
      "outputs": [],
      "source": [
        "import csv\n",
        "\n",
        "file = open('marks.csv', 'r')\n",
        "csvreader = csv.reader(file)\n",
        "header = next(csvreader) # Extracts thr header\n",
        "print(header)\n",
        "for row in csvreader:\n",
        "  print(row)"
      ]
    },
    {
      "cell_type": "code",
      "source": [
        "import csv\n",
        "\n",
        "file = open('marks.csv', 'r')\n",
        "csvreader = csv.reader(file)\n",
        "header = next(csvreader) # Extracts thr header\n",
        "\n",
        "totalMarks={}\n",
        "for row in csvreader:\n",
        "    x = row[0]\n",
        "    if x in totalMarks:\n",
        "      totalMarks[x] += int(row[1])\n",
        "    else:\n",
        "      totalMarks[x] = int(row[1])\n",
        "print(totalMarks)"
      ],
      "metadata": {
        "id": "C-mnQKVx5qkp"
      },
      "execution_count": null,
      "outputs": []
    },
    {
      "cell_type": "code",
      "source": [],
      "metadata": {
        "id": "GBb4ErMX7W4I"
      },
      "execution_count": null,
      "outputs": []
    }
  ]
}