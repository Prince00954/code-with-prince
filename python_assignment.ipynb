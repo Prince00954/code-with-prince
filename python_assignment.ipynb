{
  "nbformat": 4,
  "nbformat_minor": 0,
  "metadata": {
    "colab": {
      "provenance": [],
      "authorship_tag": "ABX9TyOZwru0CP6ijxkV/i0XLe5q",
      "include_colab_link": true
    },
    "kernelspec": {
      "name": "python3",
      "display_name": "Python 3"
    },
    "language_info": {
      "name": "python"
    }
  },
  "cells": [
    {
      "cell_type": "markdown",
      "metadata": {
        "id": "view-in-github",
        "colab_type": "text"
      },
      "source": [
        "<a href=\"https://colab.research.google.com/github/Prince00954/code-with-prince/blob/main/python_assignment.ipynb\" target=\"_parent\"><img src=\"https://colab.research.google.com/assets/colab-badge.svg\" alt=\"Open In Colab\"/></a>"
      ]
    },
    {
      "cell_type": "code",
      "execution_count": 6,
      "metadata": {
        "id": "oTtxYeNc8DPi"
      },
      "outputs": [],
      "source": [
        "L = [11, 12, 13, 14]"
      ]
    },
    {
      "cell_type": "code",
      "source": [
        "L += [50, 60]"
      ],
      "metadata": {
        "id": "_L1c6GTz8SUJ"
      },
      "execution_count": 7,
      "outputs": []
    },
    {
      "cell_type": "code",
      "source": [
        "L.remove(11)\n",
        "L.remove(13)"
      ],
      "metadata": {
        "id": "pt8IZpE38Ti0"
      },
      "execution_count": 8,
      "outputs": []
    },
    {
      "cell_type": "code",
      "source": [
        "print(sorted(L))"
      ],
      "metadata": {
        "colab": {
          "base_uri": "https://localhost:8080/"
        },
        "id": "VqqL2S0P8TlF",
        "outputId": "6bcce47f-f51c-4caa-bf26-75132f87a7bf"
      },
      "execution_count": 9,
      "outputs": [
        {
          "output_type": "stream",
          "name": "stdout",
          "text": [
            "[12, 14, 50, 60]\n"
          ]
        }
      ]
    },
    {
      "cell_type": "code",
      "source": [
        "print(sorted(L, reverse=True))"
      ],
      "metadata": {
        "colab": {
          "base_uri": "https://localhost:8080/"
        },
        "id": "ghfkjC3_8TnX",
        "outputId": "84a22239-ba9a-41d4-df09-ac30a840ac1a"
      },
      "execution_count": 10,
      "outputs": [
        {
          "output_type": "stream",
          "name": "stdout",
          "text": [
            "[60, 50, 14, 12]\n"
          ]
        }
      ]
    },
    {
      "cell_type": "code",
      "source": [
        "print(13 in L)\n"
      ],
      "metadata": {
        "colab": {
          "base_uri": "https://localhost:8080/"
        },
        "id": "IjXFUSKu8Tpk",
        "outputId": "1747a9f0-bf1f-4d2c-d011-976eba5489a2"
      },
      "execution_count": 11,
      "outputs": [
        {
          "output_type": "stream",
          "name": "stdout",
          "text": [
            "False\n"
          ]
        }
      ]
    },
    {
      "cell_type": "code",
      "source": [
        "print(len(L))\n"
      ],
      "metadata": {
        "colab": {
          "base_uri": "https://localhost:8080/"
        },
        "id": "ofx2mKgp8Trh",
        "outputId": "f6cd7b6c-3e28-40cd-ebd9-b5bc2392953c"
      },
      "execution_count": 12,
      "outputs": [
        {
          "output_type": "stream",
          "name": "stdout",
          "text": [
            "4\n"
          ]
        }
      ]
    },
    {
      "cell_type": "code",
      "source": [
        "print(sum(L))\n"
      ],
      "metadata": {
        "colab": {
          "base_uri": "https://localhost:8080/"
        },
        "id": "VE7QQYht8Tt7",
        "outputId": "840b9d2d-4857-4ae1-cb8b-2ab0b615e67a"
      },
      "execution_count": 13,
      "outputs": [
        {
          "output_type": "stream",
          "name": "stdout",
          "text": [
            "136\n"
          ]
        }
      ]
    },
    {
      "cell_type": "code",
      "source": [
        "print(sum(x for x in L if x % 2 != 0))\n"
      ],
      "metadata": {
        "colab": {
          "base_uri": "https://localhost:8080/"
        },
        "id": "dlxOmmcy8Tvr",
        "outputId": "048d5a58-3a1d-4994-9098-2608f332c6cc"
      },
      "execution_count": 14,
      "outputs": [
        {
          "output_type": "stream",
          "name": "stdout",
          "text": [
            "0\n"
          ]
        }
      ]
    },
    {
      "cell_type": "code",
      "source": [
        "print(sum(x for x in L if x % 2 == 0))\n"
      ],
      "metadata": {
        "colab": {
          "base_uri": "https://localhost:8080/"
        },
        "id": "lpfr2CP78TyG",
        "outputId": "f50d2493-ec04-4e0f-a402-768946982c8d"
      },
      "execution_count": 15,
      "outputs": [
        {
          "output_type": "stream",
          "name": "stdout",
          "text": [
            "136\n"
          ]
        }
      ]
    },
    {
      "cell_type": "code",
      "source": [
        "def is_prime(n):\n",
        "    return all(n % i != 0 for i in range(2, int(n**0.5)+1)) if n > 1 else False\n",
        "print(sum(x for x in L if is_prime(x)))\n",
        "\n"
      ],
      "metadata": {
        "colab": {
          "base_uri": "https://localhost:8080/"
        },
        "id": "kRP2Dt6a8oPW",
        "outputId": "28e26838-a635-493b-82b9-403aba489774"
      },
      "execution_count": 16,
      "outputs": [
        {
          "output_type": "stream",
          "name": "stdout",
          "text": [
            "0\n"
          ]
        }
      ]
    },
    {
      "cell_type": "code",
      "source": [
        "L.clear()\n"
      ],
      "metadata": {
        "id": "1w6lC5098oRf"
      },
      "execution_count": 17,
      "outputs": []
    },
    {
      "cell_type": "code",
      "source": [
        "del L\n"
      ],
      "metadata": {
        "id": "Z86utP348oTm"
      },
      "execution_count": 18,
      "outputs": []
    },
    {
      "cell_type": "code",
      "source": [
        "D = {1: 5.6, 2: 7.8, 3: 6.6, 4: 8.7, 5: 7.7}\n",
        "\n",
        "# (i)\n",
        "D[8] = 8.8\n",
        "\n",
        "# (ii)\n",
        "D.pop(2)\n",
        "\n",
        "# (iii)\n",
        "print(6 in D)\n",
        "\n",
        "# (iv)\n",
        "print(len(D))\n",
        "\n",
        "# (v)\n",
        "print(sum(D.values()))\n",
        "\n",
        "# (vi)\n",
        "D[3] = 7.1\n",
        "\n",
        "# (vii)\n",
        "D.clear()\n"
      ],
      "metadata": {
        "colab": {
          "base_uri": "https://localhost:8080/"
        },
        "id": "cHsBeItx8oVm",
        "outputId": "322b9a3d-5f25-483b-ae06-cab71b49d011"
      },
      "execution_count": 19,
      "outputs": [
        {
          "output_type": "stream",
          "name": "stdout",
          "text": [
            "False\n",
            "5\n",
            "37.4\n"
          ]
        }
      ]
    },
    {
      "cell_type": "code",
      "source": [
        "S1 = {10, 20, 30, 40, 50, 60}\n",
        "S2 = {40, 50, 60, 70, 80, 90}\n",
        "\n",
        "# (i)\n",
        "S1.update([55, 66])\n",
        "\n",
        "# (ii)\n",
        "S1.discard(10)\n",
        "S1.discard(30)\n",
        "\n",
        "# (iii)\n",
        "print(40 in S1)\n",
        "\n",
        "# (iv)\n",
        "print(S1.union(S2))\n",
        "\n",
        "# (v)\n",
        "print(S1.intersection(S2))\n",
        "\n",
        "# (vi)\n",
        "print(S1.difference(S2))\n"
      ],
      "metadata": {
        "colab": {
          "base_uri": "https://localhost:8080/"
        },
        "id": "IS1CFVk98oXG",
        "outputId": "b21130ff-5881-4575-f7b6-bcc362da4d85"
      },
      "execution_count": 20,
      "outputs": [
        {
          "output_type": "stream",
          "name": "stdout",
          "text": [
            "True\n",
            "{66, 70, 40, 80, 50, 20, 55, 90, 60}\n",
            "{40, 50, 60}\n",
            "{66, 20, 55}\n"
          ]
        }
      ]
    },
    {
      "cell_type": "code",
      "source": [
        "import random\n",
        "import string\n",
        "\n",
        "# (i) 100 random strings\n",
        "for _ in range(100):\n",
        "    print(''.join(random.choices(string.ascii_letters, k=random.randint(6, 8))))\n",
        "\n",
        "# (ii) Prime numbers between 600–800\n",
        "def is_prime(n):\n",
        "    return all(n % i != 0 for i in range(2, int(n**0.5)+1)) if n > 1 else False\n",
        "print([x for x in range(600, 801) if is_prime(x)])\n",
        "\n",
        "# (iii) Divisible by 7 and 9\n",
        "print([x for x in range(100, 1001) if x % 7 == 0 and x % 9 == 0])\n"
      ],
      "metadata": {
        "colab": {
          "base_uri": "https://localhost:8080/"
        },
        "id": "RJTq5Gcy81VE",
        "outputId": "ac5a85f8-ce4a-4581-f221-e97cf36d0c83"
      },
      "execution_count": 21,
      "outputs": [
        {
          "output_type": "stream",
          "name": "stdout",
          "text": [
            "BGucHc\n",
            "BhRijHmq\n",
            "akdBYj\n",
            "vqmVbuC\n",
            "RJAhNaeu\n",
            "lWwkGJuk\n",
            "HvdisFHB\n",
            "Bceacy\n",
            "BNVWUaXq\n",
            "rfSIAG\n",
            "mymTar\n",
            "ZhrkymE\n",
            "CDfYEWuT\n",
            "mhErxZ\n",
            "ScqXDe\n",
            "bnJDUe\n",
            "lWdxuwT\n",
            "AKEFTq\n",
            "uPZIhzHj\n",
            "uXJAVP\n",
            "AQBsBaE\n",
            "xTshlzpS\n",
            "tIqFhz\n",
            "bRGyqTc\n",
            "KvuhaR\n",
            "iCOxwED\n",
            "uYujtH\n",
            "zfMIMHk\n",
            "YwnriMTi\n",
            "GSJADSh\n",
            "qgzaxc\n",
            "LMQiWX\n",
            "euidoG\n",
            "obfzPJO\n",
            "LFTnUpVU\n",
            "uKUusRtI\n",
            "fYbcna\n",
            "RRHijwX\n",
            "usrqbh\n",
            "fpFQfVg\n",
            "WkMAdPvG\n",
            "IvmYWZ\n",
            "OtkWcU\n",
            "QwEzsPqD\n",
            "umqcRnal\n",
            "cnXiSuwJ\n",
            "knopWAQ\n",
            "BVsyIbPi\n",
            "jDOpsHiR\n",
            "cBrJLURr\n",
            "xTvGae\n",
            "eYAbpkP\n",
            "NwoZRU\n",
            "zWLGsyL\n",
            "vegzjaHV\n",
            "XJwtgo\n",
            "CgLIBllL\n",
            "ifIOkxn\n",
            "wsHniZu\n",
            "eMAUzzt\n",
            "axVzOeSH\n",
            "qdsEAtC\n",
            "BgNuxLXa\n",
            "kNWOtz\n",
            "ECHPvVb\n",
            "lDCRED\n",
            "hASuYDSC\n",
            "lfLcxon\n",
            "nMuxgG\n",
            "RnJsEP\n",
            "UzueoyG\n",
            "AqHihoUG\n",
            "gOyUWCoi\n",
            "PBOZjqUx\n",
            "WKBwXpdC\n",
            "EXEVvIi\n",
            "QiqOwk\n",
            "gxVASc\n",
            "FsclECCT\n",
            "vSwVoU\n",
            "jpGkNn\n",
            "SYCQnyRo\n",
            "ZnOMqE\n",
            "hxujBBUj\n",
            "LfvGRzo\n",
            "CbydawzR\n",
            "EzCETzh\n",
            "pekfXT\n",
            "LHrwOV\n",
            "MQsugiv\n",
            "BQSNNE\n",
            "nnmoOlR\n",
            "ZBeROtUb\n",
            "YupLVd\n",
            "FvhWjzr\n",
            "OKbNsxVn\n",
            "VNdHSD\n",
            "BCTkzrF\n",
            "sfTjaKv\n",
            "fshASqqj\n",
            "[601, 607, 613, 617, 619, 631, 641, 643, 647, 653, 659, 661, 673, 677, 683, 691, 701, 709, 719, 727, 733, 739, 743, 751, 757, 761, 769, 773, 787, 797]\n",
            "[126, 189, 252, 315, 378, 441, 504, 567, 630, 693, 756, 819, 882, 945]\n"
          ]
        }
      ]
    },
    {
      "cell_type": "code",
      "source": [
        "import random\n",
        "\n",
        "list1 = random.sample(range(10, 31), 10)\n",
        "list2 = random.sample(range(10, 31), 10)\n",
        "\n",
        "# (i)\n",
        "print(set(list1) & set(list2))\n",
        "\n",
        "# (ii)\n",
        "print(set(list1) ^ set(list2))\n",
        "\n",
        "# (iii)\n",
        "print(min(list1), min(list2))\n",
        "\n",
        "# (iv)\n",
        "print(max(list1), max(list2))\n",
        "\n",
        "# (v)\n",
        "print(sum(list1) + sum(list2))\n"
      ],
      "metadata": {
        "colab": {
          "base_uri": "https://localhost:8080/"
        },
        "id": "Vuo3hjOH83pe",
        "outputId": "9bd507e4-f4d1-4543-fa8e-b65e721f3167"
      },
      "execution_count": 22,
      "outputs": [
        {
          "output_type": "stream",
          "name": "stdout",
          "text": [
            "{10, 13, 24, 26, 27}\n",
            "{12, 14, 15, 16, 18, 19, 21, 22, 23, 30}\n",
            "10 10\n",
            "27 30\n",
            "390\n"
          ]
        }
      ]
    }
  ]
}