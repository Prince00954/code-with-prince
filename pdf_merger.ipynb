{
  "nbformat": 4,
  "nbformat_minor": 0,
  "metadata": {
    "colab": {
      "provenance": [],
      "include_colab_link": true
    },
    "kernelspec": {
      "name": "python3",
      "display_name": "Python 3"
    },
    "language_info": {
      "name": "python"
    }
  },
  "cells": [
    {
      "cell_type": "markdown",
      "metadata": {
        "id": "view-in-github",
        "colab_type": "text"
      },
      "source": [
        "<a href=\"https://colab.research.google.com/github/Prince00954/code-with-prince/blob/main/pdf_merger.ipynb\" target=\"_parent\"><img src=\"https://colab.research.google.com/assets/colab-badge.svg\" alt=\"Open In Colab\"/></a>"
      ]
    },
    {
      "cell_type": "code",
      "source": [
        "!pip install PyPDF2"
      ],
      "metadata": {
        "colab": {
          "base_uri": "https://localhost:8080/"
        },
        "id": "SKA48NjvZgPh",
        "outputId": "6fea47b4-07a7-4601-b57e-5bc328a66785"
      },
      "execution_count": 1,
      "outputs": [
        {
          "output_type": "stream",
          "name": "stdout",
          "text": [
            "Requirement already satisfied: PyPDF2 in /usr/local/lib/python3.11/dist-packages (3.0.1)\n"
          ]
        }
      ]
    },
    {
      "cell_type": "code",
      "execution_count": 3,
      "metadata": {
        "id": "i4H7AXnIZdnX",
        "colab": {
          "base_uri": "https://localhost:8080/"
        },
        "outputId": "a7d50b73-ad27-43a9-adb0-1b89c7d462c6"
      },
      "outputs": [
        {
          "output_type": "stream",
          "name": "stdout",
          "text": [
            "PDFs merged successfully into output.pdf\n"
          ]
        }
      ],
      "source": [
        "import PyPDF2\n",
        "import os\n",
        "\n",
        "def merge_pdfs(input_pdfs, output_pdf):\n",
        "    pdf_writer = PyPDF2.PdfWriter()\n",
        "\n",
        "    for input_pdf in input_pdfs:\n",
        "        try:\n",
        "            if not os.path.exists(input_pdf):\n",
        "                print(f\"Error: Input file not found at {input_pdf}\")\n",
        "                continue\n",
        "\n",
        "            with open(input_pdf, 'rb') as pdf_file:\n",
        "                pdf_reader = PyPDF2.PdfReader(pdf_file)\n",
        "                num_pages = len(pdf_reader.pages)\n",
        "\n",
        "                for page in range(num_pages):\n",
        "                    pdf_writer.add_page(pdf_reader.pages[page])\n",
        "\n",
        "        except Exception as e:\n",
        "            print(f\"Error processing file {input_pdf}: {e}\")\n",
        "            continue\n",
        "\n",
        "\n",
        "    try:\n",
        "        with open(output_pdf, 'wb') as output_file:\n",
        "            pdf_writer.write(output_file)\n",
        "        print(f\"PDFs merged successfully into {output_pdf}\")\n",
        "    except Exception as e:\n",
        "        print(f\"Error writing output file {output_pdf}: {e}\")\n",
        "\n",
        "# Example usage:\n",
        "# Make sure '/content/part1.pdf' and '/content/part2 (1).pdf' exist in your Colab environment\n",
        "input_pdfs = [\"/content/part1.pdf\", \"/content/part2 (1).pdf\"]\n",
        "output_pdf = \"output.pdf\"\n",
        "merge_pdfs(input_pdfs, output_pdf)"
      ]
    }
  ]
}