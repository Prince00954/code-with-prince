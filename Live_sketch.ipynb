{
  "nbformat": 4,
  "nbformat_minor": 0,
  "metadata": {
    "colab": {
      "provenance": [],
      "include_colab_link": true
    },
    "kernelspec": {
      "name": "python3",
      "display_name": "Python 3"
    },
    "language_info": {
      "name": "python"
    }
  },
  "cells": [
    {
      "cell_type": "markdown",
      "metadata": {
        "id": "view-in-github",
        "colab_type": "text"
      },
      "source": [
        "<a href=\"https://colab.research.google.com/github/Prince00954/code-with-prince/blob/main/Live_sketch.ipynb\" target=\"_parent\"><img src=\"https://colab.research.google.com/assets/colab-badge.svg\" alt=\"Open In Colab\"/></a>"
      ]
    },
    {
      "cell_type": "code",
      "execution_count": null,
      "metadata": {
        "id": "sWuvaCpfe5_b",
        "colab": {
          "base_uri": "https://localhost:8080/",
          "height": 521
        },
        "outputId": "c38539df-d38a-47ff-b1af-edc7fd14730f"
      },
      "outputs": [
        {
          "output_type": "display_data",
          "data": {
            "text/plain": [
              "<IPython.core.display.Javascript object>"
            ],
            "application/javascript": [
              "\n",
              "      async function takePhoto(quality) {\n",
              "        const div = document.createElement('div');\n",
              "        const capture = document.createElement('button');\n",
              "        capture.textContent = '📷 Capture';\n",
              "        div.appendChild(capture);\n",
              "        document.body.appendChild(div);\n",
              "\n",
              "        const video = document.createElement('video');\n",
              "        video.style.display = 'block';\n",
              "        const stream = await navigator.mediaDevices.getUserMedia({video: true});\n",
              "\n",
              "        document.body.appendChild(video);\n",
              "        video.srcObject = stream;\n",
              "        await video.play();\n",
              "\n",
              "        // Resize the output to fit the video\n",
              "        google.colab.output.setIframeHeight(document.documentElement.scrollHeight, true);\n",
              "\n",
              "        // Wait for Capture to be clicked\n",
              "        await new Promise((resolve) => capture.onclick = resolve);\n",
              "\n",
              "        const canvas = document.createElement('canvas');\n",
              "        canvas.width = video.videoWidth;\n",
              "        canvas.height = video.videoHeight;\n",
              "        canvas.getContext('2d').drawImage(video, 0, 0);\n",
              "\n",
              "        stream.getVideoTracks()[0].stop();\n",
              "        div.remove();\n",
              "        video.remove();\n",
              "\n",
              "        const dataUrl = canvas.toDataURL('image/jpeg', quality);\n",
              "        return dataUrl;\n",
              "      }\n",
              "      "
            ]
          },
          "metadata": {}
        }
      ],
      "source": [
        "# STEP 1: Install required packages\n",
        "!pip install opencv-python-headless --quiet\n",
        "\n",
        "# STEP 2: Import required libraries\n",
        "import cv2\n",
        "import numpy as np\n",
        "from IPython.display import display, Javascript\n",
        "from google.colab.output import eval_js\n",
        "from google.colab.patches import cv2_imshow\n",
        "\n",
        "# STEP 3: Function to capture webcam frame\n",
        "def take_photo(filename='photo.jpg', quality=0.8):\n",
        "    js = Javascript('''\n",
        "      async function takePhoto(quality) {\n",
        "        const div = document.createElement('div');\n",
        "        const capture = document.createElement('button');\n",
        "        capture.textContent = '📷 Capture';\n",
        "        div.appendChild(capture);\n",
        "        document.body.appendChild(div);\n",
        "\n",
        "        const video = document.createElement('video');\n",
        "        video.style.display = 'block';\n",
        "        const stream = await navigator.mediaDevices.getUserMedia({video: true});\n",
        "\n",
        "        document.body.appendChild(video);\n",
        "        video.srcObject = stream;\n",
        "        await video.play();\n",
        "\n",
        "        // Resize the output to fit the video\n",
        "        google.colab.output.setIframeHeight(document.documentElement.scrollHeight, true);\n",
        "\n",
        "        // Wait for Capture to be clicked\n",
        "        await new Promise((resolve) => capture.onclick = resolve);\n",
        "\n",
        "        const canvas = document.createElement('canvas');\n",
        "        canvas.width = video.videoWidth;\n",
        "        canvas.height = video.videoHeight;\n",
        "        canvas.getContext('2d').drawImage(video, 0, 0);\n",
        "\n",
        "        stream.getVideoTracks()[0].stop();\n",
        "        div.remove();\n",
        "        video.remove();\n",
        "\n",
        "        const dataUrl = canvas.toDataURL('image/jpeg', quality);\n",
        "        return dataUrl;\n",
        "      }\n",
        "      ''')\n",
        "    display(js)\n",
        "    data = eval_js('takePhoto({})'.format(quality))\n",
        "    import base64\n",
        "    header, encoded = data.split(',', 1)\n",
        "    binary = base64.b64decode(encoded)\n",
        "\n",
        "    with open(filename, 'wb') as f:\n",
        "        f.write(binary)\n",
        "\n",
        "    return filename\n",
        "\n",
        "# STEP 4: Capture photo\n",
        "image_path = take_photo()\n",
        "\n",
        "# STEP 5: Apply Live Sketch filter\n",
        "def sketch_image(img_path):\n",
        "    img = cv2.imread(img_path)\n",
        "\n",
        "    if img is None:\n",
        "        print(\"Failed to load image!\")\n",
        "        return\n",
        "\n",
        "    gray = cv2.cvtColor(img, cv2.COLOR_BGR2GRAY)\n",
        "    inv = 255 - gray\n",
        "    blur = cv2.GaussianBlur(inv, (21, 21), 0)\n",
        "    sketch = cv2.divide(gray, 255 - blur, scale=256.0)\n",
        "\n",
        "    cv2_imshow(sketch)\n",
        "    cv2.imwrite('sketch_output.jpg', sketch)\n",
        "\n",
        "# STEP 6: Show result\n",
        "sketch_image(image_path)"
      ]
    }
  ]
}