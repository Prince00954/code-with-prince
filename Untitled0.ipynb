{
  "nbformat": 4,
  "nbformat_minor": 0,
  "metadata": {
    "colab": {
      "provenance": [],
      "authorship_tag": "ABX9TyNan55ojOiRpZSka6s19062",
      "include_colab_link": true
    },
    "kernelspec": {
      "name": "python3",
      "display_name": "Python 3"
    },
    "language_info": {
      "name": "python"
    }
  },
  "cells": [
    {
      "cell_type": "markdown",
      "metadata": {
        "id": "view-in-github",
        "colab_type": "text"
      },
      "source": [
        "<a href=\"https://colab.research.google.com/github/Prince00954/code-with-prince/blob/main/Untitled0.ipynb\" target=\"_parent\"><img src=\"https://colab.research.google.com/assets/colab-badge.svg\" alt=\"Open In Colab\"/></a>"
      ]
    },
    {
      "cell_type": "code",
      "execution_count": 1,
      "metadata": {
        "id": "GHjfnOamg6fB",
        "colab": {
          "base_uri": "https://localhost:8080/"
        },
        "outputId": "7a5ee54a-af41-4d7c-a3e3-d8849077eb40"
      },
      "outputs": [
        {
          "output_type": "stream",
          "name": "stdout",
          "text": [
            "Q1. List Operations\n"
          ]
        }
      ],
      "source": [
        "print(\"Q1. List Operations\")\n",
        "L = [11, 12, 13, 14]"
      ]
    },
    {
      "cell_type": "code",
      "source": [
        "L.remove(11)\n",
        "L.remove(13)\n",
        "print(\"(ii)\", L)\n"
      ],
      "metadata": {
        "colab": {
          "base_uri": "https://localhost:8080/"
        },
        "id": "4zskIqsQvofP",
        "outputId": "6215bcb9-c780-4f42-a4dd-9204c9474bf5"
      },
      "execution_count": 2,
      "outputs": [
        {
          "output_type": "stream",
          "name": "stdout",
          "text": [
            "(ii) [12, 14]\n"
          ]
        }
      ]
    },
    {
      "cell_type": "code",
      "source": [
        "L.sort()\n",
        "print(\"(iii)\", L)\n"
      ],
      "metadata": {
        "colab": {
          "base_uri": "https://localhost:8080/"
        },
        "id": "61mYQP5uvoG4",
        "outputId": "c21e294d-bd1d-4310-a528-26d1b9396bfa"
      },
      "execution_count": 3,
      "outputs": [
        {
          "output_type": "stream",
          "name": "stdout",
          "text": [
            "(iii) [12, 14]\n"
          ]
        }
      ]
    },
    {
      "cell_type": "code",
      "source": [
        "L.sort(reverse=True)\n",
        "print(\"(iv)\", L)\n"
      ],
      "metadata": {
        "colab": {
          "base_uri": "https://localhost:8080/"
        },
        "id": "rsHH3komvzuW",
        "outputId": "8311d4a8-66d2-4314-9200-81d218665dbe"
      },
      "execution_count": 4,
      "outputs": [
        {
          "output_type": "stream",
          "name": "stdout",
          "text": [
            "(iv) [14, 12]\n"
          ]
        }
      ]
    },
    {
      "cell_type": "code",
      "source": [
        "print(\"(v)\", \"13 found\" if 13 in L else \"13 not found\")\n",
        "\n"
      ],
      "metadata": {
        "colab": {
          "base_uri": "https://localhost:8080/"
        },
        "id": "1qdWQqpZvzrA",
        "outputId": "03c9b494-07b2-4e6e-9b80-dd05dfd75ffb"
      },
      "execution_count": 5,
      "outputs": [
        {
          "output_type": "stream",
          "name": "stdout",
          "text": [
            "(v) 13 not found\n"
          ]
        }
      ]
    },
    {
      "cell_type": "code",
      "source": [
        "print(\"(vi)\", \"Count:\", len(L))"
      ],
      "metadata": {
        "colab": {
          "base_uri": "https://localhost:8080/"
        },
        "id": "EO9zUcYmvzof",
        "outputId": "c92bd91f-62f3-497e-c314-be52499735ad"
      },
      "execution_count": 6,
      "outputs": [
        {
          "output_type": "stream",
          "name": "stdout",
          "text": [
            "(vi) Count: 2\n"
          ]
        }
      ]
    },
    {
      "cell_type": "code",
      "source": [
        "print(\"(vii)\", \"Sum:\", sum(L))"
      ],
      "metadata": {
        "colab": {
          "base_uri": "https://localhost:8080/"
        },
        "id": "OJBo4YygvzmI",
        "outputId": "5b9028b0-a3c0-4151-f44d-01ac6456504a"
      },
      "execution_count": 7,
      "outputs": [
        {
          "output_type": "stream",
          "name": "stdout",
          "text": [
            "(vii) Sum: 26\n"
          ]
        }
      ]
    },
    {
      "cell_type": "code",
      "source": [
        "# prompt: print(\"(viii)\", \"Odd Sum:\", sum(i for i in L if i % 2 != 0))\n",
        "\n",
        "print(\"(ix)\", \"Even Sum:\", sum(i for i in L if i % 2 == 0))"
      ],
      "metadata": {
        "id": "kj-g3L-avzjm"
      },
      "execution_count": null,
      "outputs": []
    },
    {
      "cell_type": "code",
      "source": [
        "\n",
        "print(\"(ix)\", \"Even Sum:\", sum(i for i in L if i % 2 == 0))\n"
      ],
      "metadata": {
        "colab": {
          "base_uri": "https://localhost:8080/"
        },
        "id": "8z3xBX1EvzhZ",
        "outputId": "e5a74f8e-c7f0-4e27-f0c3-4980ce9a3153"
      },
      "execution_count": 9,
      "outputs": [
        {
          "output_type": "stream",
          "name": "stdout",
          "text": [
            "(ix) Even Sum: 26\n"
          ]
        }
      ]
    },
    {
      "cell_type": "code",
      "source": [
        "def is_prime(n):\n",
        "    if n < 2: return False\n",
        "    for i in range(2, int(n**0.5)+1):\n",
        "        if n % i == 0: return False\n",
        "    return True\n",
        "print(\"(x)\", \"Prime Sum:\", sum(i for i in L if is_prime(i)))\n",
        "\n"
      ],
      "metadata": {
        "colab": {
          "base_uri": "https://localhost:8080/"
        },
        "id": "krQn0E8Xvze0",
        "outputId": "0f373208-f4c0-4188-eb09-5b23ecfb8c6b"
      },
      "execution_count": 10,
      "outputs": [
        {
          "output_type": "stream",
          "name": "stdout",
          "text": [
            "(x) Prime Sum: 0\n"
          ]
        }
      ]
    },
    {
      "cell_type": "code",
      "source": [
        "L.clear()\n",
        "print(\"(xi)\", \"List Cleared:\", L)"
      ],
      "metadata": {
        "colab": {
          "base_uri": "https://localhost:8080/"
        },
        "id": "IGxrofUcvzcl",
        "outputId": "68a8b842-488a-4302-baa8-f54159f1f76d"
      },
      "execution_count": 11,
      "outputs": [
        {
          "output_type": "stream",
          "name": "stdout",
          "text": [
            "(xi) List Cleared: []\n"
          ]
        }
      ]
    },
    {
      "cell_type": "code",
      "source": [
        "del L\n",
        "print(\"(xii)\", \"List Deleted\")\n",
        "\n"
      ],
      "metadata": {
        "colab": {
          "base_uri": "https://localhost:8080/"
        },
        "id": "iu7OXoJzvzZ7",
        "outputId": "f860a37e-0241-4840-c0fc-60ba53c0d7f4"
      },
      "execution_count": 12,
      "outputs": [
        {
          "output_type": "stream",
          "name": "stdout",
          "text": [
            "(xii) List Deleted\n"
          ]
        }
      ]
    },
    {
      "cell_type": "code",
      "source": [
        "print(\"\\nQ2. Dictionary Operations\")\n",
        "D = {1:5.6, 2:7.8, 3:6.6, 4:8.7, 5:7.7}\n"
      ],
      "metadata": {
        "colab": {
          "base_uri": "https://localhost:8080/"
        },
        "id": "JkELaGDRvzXk",
        "outputId": "1dd816ee-076a-4653-e97e-b5c23e9dc977"
      },
      "execution_count": 13,
      "outputs": [
        {
          "output_type": "stream",
          "name": "stdout",
          "text": [
            "\n",
            "Q2. Dictionary Operations\n"
          ]
        }
      ]
    },
    {
      "cell_type": "code",
      "source": [
        "D[8] = 8.8\n",
        "print(\"(i) After adding key=8:\", D)\n"
      ],
      "metadata": {
        "colab": {
          "base_uri": "https://localhost:8080/"
        },
        "id": "nNSnvlvCvzVC",
        "outputId": "3ae8a4ea-3834-425d-f470-b64d2c26b098"
      },
      "execution_count": 14,
      "outputs": [
        {
          "output_type": "stream",
          "name": "stdout",
          "text": [
            "(i) After adding key=8: {1: 5.6, 2: 7.8, 3: 6.6, 4: 8.7, 5: 7.7, 8: 8.8}\n"
          ]
        }
      ]
    },
    {
      "cell_type": "code",
      "source": [
        "D.pop(2, None)\n",
        "print(\"(ii) After removing key=2:\", D)\n"
      ],
      "metadata": {
        "colab": {
          "base_uri": "https://localhost:8080/"
        },
        "id": "5IQiQYFGvzSW",
        "outputId": "bc5ca253-f474-432f-cfa2-f035b2c56659"
      },
      "execution_count": 15,
      "outputs": [
        {
          "output_type": "stream",
          "name": "stdout",
          "text": [
            "(ii) After removing key=2: {1: 5.6, 3: 6.6, 4: 8.7, 5: 7.7, 8: 8.8}\n"
          ]
        }
      ]
    },
    {
      "cell_type": "code",
      "source": [
        "key=6\n",
        "print(\"(iii) Is key=6 present?\", 6 in D)\n"
      ],
      "metadata": {
        "colab": {
          "base_uri": "https://localhost:8080/"
        },
        "id": "u-B4Giqzvn7d",
        "outputId": "c0766c4d-5988-441f-d571-62e8ec8ee18c"
      },
      "execution_count": 17,
      "outputs": [
        {
          "output_type": "stream",
          "name": "stdout",
          "text": [
            "(iii) Is key=6 present? False\n"
          ]
        }
      ]
    },
    {
      "cell_type": "code",
      "source": [
        "\n",
        "print(\"(iv) Number of elements:\", len(D))\n"
      ],
      "metadata": {
        "colab": {
          "base_uri": "https://localhost:8080/"
        },
        "id": "YBj5a0unvnqg",
        "outputId": "85d82df5-7585-4529-cbb9-200408809cfa"
      },
      "execution_count": 19,
      "outputs": [
        {
          "output_type": "stream",
          "name": "stdout",
          "text": [
            "(iv) Number of elements: 5\n"
          ]
        }
      ]
    },
    {
      "cell_type": "code",
      "source": [
        "D[3] = 7.1\n",
        "print(\"(vi) Updated key 3:\", D)"
      ],
      "metadata": {
        "colab": {
          "base_uri": "https://localhost:8080/"
        },
        "id": "_aCLJd-RyKf1",
        "outputId": "706a2573-1e2e-4406-e56d-0f1ae1c7f033"
      },
      "execution_count": 21,
      "outputs": [
        {
          "output_type": "stream",
          "name": "stdout",
          "text": [
            "(vi) Updated key 3: {1: 5.6, 3: 7.1, 4: 8.7, 5: 7.7, 8: 8.8}\n"
          ]
        }
      ]
    },
    {
      "cell_type": "code",
      "source": [
        "D.clear()\n",
        "print(\"(vii) Dictionary after clearing:\", D)\n"
      ],
      "metadata": {
        "colab": {
          "base_uri": "https://localhost:8080/"
        },
        "id": "QCGASjluyKcP",
        "outputId": "ddf1935d-9038-47b4-d0db-c08c44e9e1c8"
      },
      "execution_count": 22,
      "outputs": [
        {
          "output_type": "stream",
          "name": "stdout",
          "text": [
            "(vii) Dictionary after clearing: {}\n"
          ]
        }
      ]
    },
    {
      "cell_type": "code",
      "source": [
        "print(\"\\nQ3: Set Operations\")\n",
        "S1 = set([10, 20, 30, 40, 50, 60])\n",
        "S2 = set([40, 50, 60, 70, 80, 90])\n"
      ],
      "metadata": {
        "colab": {
          "base_uri": "https://localhost:8080/"
        },
        "id": "V5LJVMbRyKaQ",
        "outputId": "8797c371-9766-4706-f7ed-45e8e9782813"
      },
      "execution_count": 23,
      "outputs": [
        {
          "output_type": "stream",
          "name": "stdout",
          "text": [
            "\n",
            "Q3: Set Operations\n"
          ]
        }
      ]
    },
    {
      "cell_type": "code",
      "source": [
        "S1.update([55, 66])\n",
        "print(\"(i) After adding 55 and 66:\", S1)\n"
      ],
      "metadata": {
        "colab": {
          "base_uri": "https://localhost:8080/"
        },
        "id": "USn5AiB5yKXw",
        "outputId": "e29fc90f-5d38-4af8-d2d9-64a3ee44066f"
      },
      "execution_count": 24,
      "outputs": [
        {
          "output_type": "stream",
          "name": "stdout",
          "text": [
            "(i) After adding 55 and 66: {66, 40, 10, 50, 20, 55, 60, 30}\n"
          ]
        }
      ]
    },
    {
      "cell_type": "code",
      "source": [
        "S1.discard(10)\n",
        "S1.discard(30)\n",
        "print(\"(ii) After removing 10 and 30:\", S1)\n"
      ],
      "metadata": {
        "colab": {
          "base_uri": "https://localhost:8080/"
        },
        "id": "hBRdNo4KyKVh",
        "outputId": "7502c0b0-30c5-41ac-deb4-c27e1d3a6d4d"
      },
      "execution_count": 26,
      "outputs": [
        {
          "output_type": "stream",
          "name": "stdout",
          "text": [
            "(ii) After removing 10 and 30: {66, 40, 50, 20, 55, 60}\n"
          ]
        }
      ]
    },
    {
      "cell_type": "code",
      "source": [
        "print(\"(iii) Is 40 in S1?\", 40 in S1)\n"
      ],
      "metadata": {
        "colab": {
          "base_uri": "https://localhost:8080/"
        },
        "id": "UiLQhq5wyKS_",
        "outputId": "e275b7f0-ec55-40e8-bca9-1a0cb3053179"
      },
      "execution_count": 27,
      "outputs": [
        {
          "output_type": "stream",
          "name": "stdout",
          "text": [
            "(iii) Is 40 in S1? True\n"
          ]
        }
      ]
    },
    {
      "cell_type": "code",
      "source": [
        "print(\"(iv) Union of S1 and S2:\", S1.union(S2))\n"
      ],
      "metadata": {
        "colab": {
          "base_uri": "https://localhost:8080/"
        },
        "id": "BpUw4J4kyKQZ",
        "outputId": "d6af67ae-30e9-4675-88c8-59cdee4a9f48"
      },
      "execution_count": 28,
      "outputs": [
        {
          "output_type": "stream",
          "name": "stdout",
          "text": [
            "(iv) Union of S1 and S2: {66, 70, 40, 80, 50, 20, 55, 90, 60}\n"
          ]
        }
      ]
    },
    {
      "cell_type": "code",
      "source": [
        "print(\"(v) Intersection of S1 and S2:\", S1.intersection(S2))\n"
      ],
      "metadata": {
        "colab": {
          "base_uri": "https://localhost:8080/"
        },
        "id": "0RQ7ww_6yKNm",
        "outputId": "e8a4ed10-6723-4ae7-f3ed-085fc5548b85"
      },
      "execution_count": 29,
      "outputs": [
        {
          "output_type": "stream",
          "name": "stdout",
          "text": [
            "(v) Intersection of S1 and S2: {40, 50, 60}\n"
          ]
        }
      ]
    },
    {
      "cell_type": "code",
      "source": [
        "print(\"(vi) S1 - S2:\", S1.difference(S2))\n"
      ],
      "metadata": {
        "colab": {
          "base_uri": "https://localhost:8080/"
        },
        "id": "TGvZmeDlyMP9",
        "outputId": "8c1f1c0b-f376-4a47-f108-95b5da29922f"
      },
      "execution_count": 30,
      "outputs": [
        {
          "output_type": "stream",
          "name": "stdout",
          "text": [
            "(vi) S1 - S2: {66, 20, 55}\n"
          ]
        }
      ]
    },
    {
      "cell_type": "code",
      "source": [
        "print(\"\\nQ4: Miscellaneous Programs\")\n",
        "import random, string\n"
      ],
      "metadata": {
        "colab": {
          "base_uri": "https://localhost:8080/"
        },
        "id": "PwlQ0u_Dy4cD",
        "outputId": "ec376d27-d2a6-48e3-8e9f-141cac9ba2c9"
      },
      "execution_count": 31,
      "outputs": [
        {
          "output_type": "stream",
          "name": "stdout",
          "text": [
            "\n",
            "Q4: Miscellaneous Programs\n"
          ]
        }
      ]
    },
    {
      "cell_type": "code",
      "source": [
        "print(\"(i) Random Strings:\")\n",
        "for _ in range(100):\n",
        "    print(''.join(random.choices(string.ascii_letters, k=random.randint(6, 8))))\n"
      ],
      "metadata": {
        "colab": {
          "base_uri": "https://localhost:8080/"
        },
        "id": "kmCDTKNZy4Yp",
        "outputId": "768c1fe3-ede7-4f6b-d252-2835660692bf"
      },
      "execution_count": 32,
      "outputs": [
        {
          "output_type": "stream",
          "name": "stdout",
          "text": [
            "(i) Random Strings:\n",
            "ySrjeq\n",
            "hfXGmI\n",
            "vuFEcsXk\n",
            "RxHzPf\n",
            "FdlawS\n",
            "cAEsaJ\n",
            "yurbiwGP\n",
            "WufXzdD\n",
            "Indcwy\n",
            "HcynSRtP\n",
            "UzZSvv\n",
            "QGETGuIo\n",
            "tbvsYEo\n",
            "OZxshxSb\n",
            "whAITks\n",
            "GshzKWAu\n",
            "lKkOOGg\n",
            "VBvnvv\n",
            "fXanXOI\n",
            "cUhKRFI\n",
            "ipKvFll\n",
            "EjwnYN\n",
            "jrIoAnG\n",
            "acGIzvYo\n",
            "bVfDpC\n",
            "pWVYCoud\n",
            "spEMqi\n",
            "LDLXCboE\n",
            "ssyacIq\n",
            "haSwkzSf\n",
            "DdMyLj\n",
            "OoFZTt\n",
            "uEQFyxXJ\n",
            "AHnVpnF\n",
            "QeObQmI\n",
            "mSmndv\n",
            "TBAeaDA\n",
            "KJOIIVx\n",
            "zWOFWVQH\n",
            "KcrhTix\n",
            "VilMOoj\n",
            "uDjMje\n",
            "xmhqyOl\n",
            "XaKAmbi\n",
            "DnzJKgzm\n",
            "MHQueDo\n",
            "vmbKoq\n",
            "tJQnrxH\n",
            "lFSymkRA\n",
            "SKRaaT\n",
            "WBAGVuY\n",
            "lNYyTkzD\n",
            "aNFallVa\n",
            "gspALe\n",
            "hNVgXx\n",
            "qikBlkO\n",
            "DHOFru\n",
            "TETPoK\n",
            "dYztUhL\n",
            "EgnCsni\n",
            "kxDrrr\n",
            "TfJmPpYP\n",
            "ZzKeSw\n",
            "dBJuMu\n",
            "IowQdEbK\n",
            "crdmfP\n",
            "oOMcXkM\n",
            "TpMKMS\n",
            "YgSRemDL\n",
            "cDAHbec\n",
            "yhQpDkG\n",
            "afaghdmC\n",
            "dtSjxR\n",
            "npfZkXDo\n",
            "rTxJOzS\n",
            "QWkwKEG\n",
            "OvnmSb\n",
            "wBmqUd\n",
            "cfHenJLA\n",
            "eegzMgJr\n",
            "GqiTyw\n",
            "jqseGc\n",
            "odixEtpQ\n",
            "xSyoaBhI\n",
            "WBSPsNQb\n",
            "ySKoNB\n",
            "ZejMEn\n",
            "btuEprer\n",
            "mcAtmX\n",
            "OwbZfSKK\n",
            "QmSbquu\n",
            "fYnzBv\n",
            "RUyHggD\n",
            "vxVrhp\n",
            "uFLEVzdv\n",
            "EDTqhxmF\n",
            "wWlgbNGX\n",
            "PmjZUjuD\n",
            "CFLYwL\n",
            "dAKVqVJ\n"
          ]
        }
      ]
    },
    {
      "cell_type": "code",
      "source": [
        "print(\"\\n(ii) Prime numbers between 600 and 800:\")\n",
        "for num in range(600, 801):\n",
        "    if is_prime(num):\n",
        "        print(num, end=' ')"
      ],
      "metadata": {
        "colab": {
          "base_uri": "https://localhost:8080/"
        },
        "id": "3g8l4zvPy4WL",
        "outputId": "48ae9251-9516-4440-ca73-d6aeb3351584"
      },
      "execution_count": 33,
      "outputs": [
        {
          "output_type": "stream",
          "name": "stdout",
          "text": [
            "\n",
            "(ii) Prime numbers between 600 and 800:\n",
            "601 607 613 617 619 631 641 643 647 653 659 661 673 677 683 691 701 709 719 727 733 739 743 751 757 761 769 773 787 797 "
          ]
        }
      ]
    },
    {
      "cell_type": "code",
      "source": [
        "print(\"\\n\\n(iii) Numbers divisible by 7 and 9 between 100 and 1000:\")\n",
        "for num in range(100, 1001):\n",
        "    if num % 7 == 0 and num % 9 == 0:\n",
        "        print(num, end=' ')\n"
      ],
      "metadata": {
        "colab": {
          "base_uri": "https://localhost:8080/"
        },
        "id": "XVO_r6Xyy4TP",
        "outputId": "b353e299-c300-4454-8344-3223021d7586"
      },
      "execution_count": 34,
      "outputs": [
        {
          "output_type": "stream",
          "name": "stdout",
          "text": [
            "\n",
            "\n",
            "(iii) Numbers divisible by 7 and 9 between 100 and 1000:\n",
            "126 189 252 315 378 441 504 567 630 693 756 819 882 945 "
          ]
        }
      ]
    },
    {
      "cell_type": "code",
      "source": [
        "print(\"\\n\\nQ5: Two List Comparison\")\n",
        "list1 = [random.randint(10, 30) for _ in range(10)]\n",
        "list2 = [random.randint(10, 30) for _ in range(10)]\n"
      ],
      "metadata": {
        "colab": {
          "base_uri": "https://localhost:8080/"
        },
        "id": "VDt9RO4My4Fp",
        "outputId": "fd22af8b-9d8f-4bef-b031-99e73e233965"
      },
      "execution_count": 35,
      "outputs": [
        {
          "output_type": "stream",
          "name": "stdout",
          "text": [
            "\n",
            "\n",
            "Q5: Two List Comparison\n"
          ]
        }
      ]
    },
    {
      "cell_type": "code",
      "source": [
        "print(\"(v) Sum of all values:\", sum(D.values()))"
      ],
      "metadata": {
        "colab": {
          "base_uri": "https://localhost:8080/"
        },
        "id": "67HqZX2XvnRy",
        "outputId": "581784b1-bc49-4662-8394-79f0dc01e6c7"
      },
      "execution_count": 20,
      "outputs": [
        {
          "output_type": "stream",
          "name": "stdout",
          "text": [
            "(v) Sum of all values: 37.4\n"
          ]
        }
      ]
    },
    {
      "cell_type": "code",
      "source": [
        "print(\"List1:\", list1)\n",
        "print(\"List2:\", list2)\n"
      ],
      "metadata": {
        "colab": {
          "base_uri": "https://localhost:8080/"
        },
        "id": "9ZMDkBy2zR-R",
        "outputId": "e1ffaac7-95eb-4e83-e002-721318d0fbea"
      },
      "execution_count": 36,
      "outputs": [
        {
          "output_type": "stream",
          "name": "stdout",
          "text": [
            "List1: [29, 28, 10, 30, 10, 22, 19, 13, 18, 20]\n",
            "List2: [27, 12, 19, 22, 25, 30, 20, 21, 29, 22]\n"
          ]
        }
      ]
    },
    {
      "cell_type": "code",
      "source": [
        "print(\"(i) Common elements:\", list(set(list1) & set(list2)))\n"
      ],
      "metadata": {
        "colab": {
          "base_uri": "https://localhost:8080/"
        },
        "id": "zwLVSWwqzR69",
        "outputId": "ceec42a4-3242-4970-91c5-e4050e02c232"
      },
      "execution_count": 37,
      "outputs": [
        {
          "output_type": "stream",
          "name": "stdout",
          "text": [
            "(i) Common elements: [19, 20, 22, 29, 30]\n"
          ]
        }
      ]
    },
    {
      "cell_type": "code",
      "source": [
        "print(\"(ii) Unique elements:\", list(set(list1) ^ set(list2)))"
      ],
      "metadata": {
        "colab": {
          "base_uri": "https://localhost:8080/"
        },
        "id": "KeTtlvInzR45",
        "outputId": "20a47463-f7b7-49d1-9ac4-db246f3c88a3"
      },
      "execution_count": 38,
      "outputs": [
        {
          "output_type": "stream",
          "name": "stdout",
          "text": [
            "(ii) Unique elements: [10, 12, 13, 18, 21, 25, 27, 28]\n"
          ]
        }
      ]
    },
    {
      "cell_type": "code",
      "source": [
        "print(\"(iii) Min in list1:\", min(list1), \"Min in list2:\", min(list2))\n"
      ],
      "metadata": {
        "colab": {
          "base_uri": "https://localhost:8080/"
        },
        "id": "OKjqueVazR2e",
        "outputId": "8206fa53-696f-4efe-f300-2d785ec81893"
      },
      "execution_count": 39,
      "outputs": [
        {
          "output_type": "stream",
          "name": "stdout",
          "text": [
            "(iii) Min in list1: 10 Min in list2: 12\n"
          ]
        }
      ]
    },
    {
      "cell_type": "code",
      "source": [
        "print(\"(iv) Max in list1:\", max(list1), \"Max in list2:\", max(list2))\n"
      ],
      "metadata": {
        "colab": {
          "base_uri": "https://localhost:8080/"
        },
        "id": "-Chs19lDzR0U",
        "outputId": "2b86c3b3-a462-4768-971b-436d8b518bdc"
      },
      "execution_count": 40,
      "outputs": [
        {
          "output_type": "stream",
          "name": "stdout",
          "text": [
            "(iv) Max in list1: 30 Max in list2: 30\n"
          ]
        }
      ]
    },
    {
      "cell_type": "code",
      "source": [
        "print(\"(v) Sum of list1:\", sum(list1), \"Sum of list2:\", sum(list2))"
      ],
      "metadata": {
        "colab": {
          "base_uri": "https://localhost:8080/"
        },
        "id": "BZY5lMkgzRx9",
        "outputId": "b805c4fc-d190-460b-cbe1-81e1ab15fc80"
      },
      "execution_count": 41,
      "outputs": [
        {
          "output_type": "stream",
          "name": "stdout",
          "text": [
            "(v) Sum of list1: 199 Sum of list2: 227\n"
          ]
        }
      ]
    },
    {
      "cell_type": "code",
      "source": [
        "print(\"\\nQ6: Random Number Analysis\")\n",
        "numbers = [random.randint(100, 900) for _ in range(100)]\n",
        "odds = [n for n in numbers if n % 2 != 0]\n",
        "evens = [n for n in numbers if n % 2 == 0]\n",
        "primes = [n for n in numbers if is_prime(n)]\n",
        "print(\"Generated numbers:\", numbers)\n",
        "print(\"Odd numbers (count={}):\".format(len(odds)), odds)\n",
        "print(\"Even numbers (count={}):\".format(len(evens)), evens)\n",
        "print(\"Prime numbers (count={}):\".format(len(primes)), primes)"
      ],
      "metadata": {
        "colab": {
          "base_uri": "https://localhost:8080/"
        },
        "id": "VxwEcXGMzRvr",
        "outputId": "3089ab73-433b-4c29-a509-0f92bbfe300c"
      },
      "execution_count": 42,
      "outputs": [
        {
          "output_type": "stream",
          "name": "stdout",
          "text": [
            "\n",
            "Q6: Random Number Analysis\n",
            "Generated numbers: [411, 672, 244, 883, 598, 474, 709, 261, 379, 279, 889, 741, 499, 845, 439, 470, 838, 445, 688, 838, 750, 837, 694, 454, 738, 763, 315, 211, 323, 276, 209, 344, 410, 280, 295, 701, 849, 238, 435, 889, 266, 723, 542, 889, 131, 303, 853, 821, 360, 789, 396, 835, 354, 234, 554, 448, 765, 604, 682, 706, 478, 563, 726, 794, 313, 542, 757, 429, 716, 817, 624, 292, 586, 790, 626, 572, 563, 131, 338, 149, 647, 674, 493, 189, 804, 722, 874, 136, 657, 167, 627, 102, 608, 448, 615, 487, 609, 819, 121, 831]\n",
            "Odd numbers (count=52): [411, 883, 709, 261, 379, 279, 889, 741, 499, 845, 439, 445, 837, 763, 315, 211, 323, 209, 295, 701, 849, 435, 889, 723, 889, 131, 303, 853, 821, 789, 835, 765, 563, 313, 757, 429, 817, 563, 131, 149, 647, 493, 189, 657, 167, 627, 615, 487, 609, 819, 121, 831]\n",
            "Even numbers (count=48): [672, 244, 598, 474, 470, 838, 688, 838, 750, 694, 454, 738, 276, 344, 410, 280, 238, 266, 542, 360, 396, 354, 234, 554, 448, 604, 682, 706, 478, 726, 794, 542, 716, 624, 292, 586, 790, 626, 572, 338, 674, 804, 722, 874, 136, 102, 608, 448]\n",
            "Prime numbers (count=19): [883, 709, 379, 499, 439, 211, 701, 131, 853, 821, 563, 313, 757, 563, 131, 149, 647, 167, 487]\n"
          ]
        }
      ]
    },
    {
      "cell_type": "code",
      "source": [
        "print(\"\\nQ7: Write Dictionary to File\")\n",
        "D = {1:\"One\", 2:\"Two\", 3:\"Three\", 4:\"Four\", 5:\"Five\"}\n",
        "with open(\"dict_output.txt\", \"w\") as f:\n",
        "    for k, v in D.items():\n",
        "        f.write(f\"Key{k}, Value{v}\\n\")\n",
        "print(\"Dictionary written to dict_output.txt\")"
      ],
      "metadata": {
        "colab": {
          "base_uri": "https://localhost:8080/"
        },
        "id": "lXI6aGfMzRtP",
        "outputId": "2af3da06-6cdc-4ed6-98e6-bc4e0387e0cc"
      },
      "execution_count": 43,
      "outputs": [
        {
          "output_type": "stream",
          "name": "stdout",
          "text": [
            "\n",
            "Q7: Write Dictionary to File\n",
            "Dictionary written to dict_output.txt\n"
          ]
        }
      ]
    },
    {
      "cell_type": "code",
      "source": [
        "print(\"\\nQ8: Write List Element Lengths to File\")\n",
        "L = [\"One\", \"Two\", \"Three\", \"Four\", \"Five\"]\n",
        "with open(\"list_lengths.txt\", \"w\") as f:\n",
        "    for item in L:\n",
        "        f.write(f\"{item}, {len(item)}\\n\")\n",
        "print(\"List element lengths written to list_lengths.txt\")\n"
      ],
      "metadata": {
        "colab": {
          "base_uri": "https://localhost:8080/"
        },
        "id": "Sqaj8pYFzRrB",
        "outputId": "ea5bdd9c-9ee3-4d71-8570-f89b799c60d0"
      },
      "execution_count": 44,
      "outputs": [
        {
          "output_type": "stream",
          "name": "stdout",
          "text": [
            "\n",
            "Q8: Write List Element Lengths to File\n",
            "List element lengths written to list_lengths.txt\n"
          ]
        }
      ]
    },
    {
      "cell_type": "code",
      "source": [
        "print(\"\\nQ9: Write Random Strings to File\")\n",
        "with open(\"random_strings.txt\", \"w\") as f:\n",
        "    for _ in range(100):\n",
        "        s = ''.join(random.choices(string.ascii_letters, k=random.randint(10, 15)))\n",
        "        f.write(s + \"\\n\")\n",
        "print(\"100 random strings written to random_strings.txt\")"
      ],
      "metadata": {
        "colab": {
          "base_uri": "https://localhost:8080/"
        },
        "id": "6k0dSDVmzRo1",
        "outputId": "924bc8cb-bbcb-41d2-ae36-7e55c91f13b2"
      },
      "execution_count": 45,
      "outputs": [
        {
          "output_type": "stream",
          "name": "stdout",
          "text": [
            "\n",
            "Q9: Write Random Strings to File\n",
            "100 random strings written to random_strings.txt\n"
          ]
        }
      ]
    },
    {
      "cell_type": "code",
      "source": [
        "print(\"\\nQ10: Write Prime Numbers to File\")\n",
        "with open(\"prime_600_800.txt\", \"w\") as f:\n",
        "    for i in range(600, 801):\n",
        "        if is_prime(i):\n",
        "            f.write(str(i) + \"\\n\")\n",
        "print(\"Prime numbers written to prime_600_800.txt\")"
      ],
      "metadata": {
        "colab": {
          "base_uri": "https://localhost:8080/"
        },
        "id": "_XFdt6UwzRmf",
        "outputId": "554c78a2-4639-4abd-fb56-cfc2963fb91b"
      },
      "execution_count": 46,
      "outputs": [
        {
          "output_type": "stream",
          "name": "stdout",
          "text": [
            "\n",
            "Q10: Write Prime Numbers to File\n",
            "Prime numbers written to prime_600_800.txt\n"
          ]
        }
      ]
    },
    {
      "cell_type": "code",
      "source": [
        "print(\"\\nQ11: Measure Execution Time\")\n",
        "import time as tm\n",
        "start = tm.time()\n",
        "sum([x**2 for x in range(100000)])\n",
        "end = tm.time()\n",
        "print(f\"Time taken: {end - start:.4f} seconds\")\n",
        "\n"
      ],
      "metadata": {
        "colab": {
          "base_uri": "https://localhost:8080/"
        },
        "id": "7HGpl5dvzRkL",
        "outputId": "34d722c1-93ad-4e11-b63a-d0709051b2a1"
      },
      "execution_count": 48,
      "outputs": [
        {
          "output_type": "stream",
          "name": "stdout",
          "text": [
            "\n",
            "Q11: Measure Execution Time\n",
            "Time taken: 0.0138 seconds\n"
          ]
        }
      ]
    },
    {
      "cell_type": "code",
      "source": [
        "print(\"\\nQ12: Sorting Time Graph\")\n",
        "sizes = [5000, 10000, 15000, 20000, 25000]\n",
        "times = []\n",
        "\n",
        "for size in sizes:\n",
        "    lst = [random.randint(1, 100000) for _ in range(size)]\n",
        "    start = tm.time()\n",
        "    sorted_lst = sorted(lst)\n",
        "    end = tm.time()\n",
        "    times.append(end - start)\n",
        "    print(f\"Sorted {size} elements in {end - start:.4f} seconds\")\n",
        "\n",
        "plt.figure(figsize=(10, 5))\n",
        "plt.plot(sizes, times, marker='o', linestyle='-', color='b')\n",
        "plt.xlabel(\"Number of Elements\")\n",
        "plt.ylabel(\"Time Taken (seconds)\")\n",
        "plt.title(\"Sorting Time vs List Size\")\n",
        "plt.grid(True)\n",
        "plt.tight_layout()\n",
        "plt.show()\n"
      ],
      "metadata": {
        "colab": {
          "base_uri": "https://localhost:8080/",
          "height": 347
        },
        "id": "CTZ-DIWCzRhn",
        "outputId": "6583df74-8c37-49b0-d4c4-b0c32d82c151"
      },
      "execution_count": 50,
      "outputs": [
        {
          "output_type": "stream",
          "name": "stdout",
          "text": [
            "\n",
            "Q12: Sorting Time Graph\n",
            "Sorted 5000 elements in 0.0008 seconds\n",
            "Sorted 10000 elements in 0.0075 seconds\n",
            "Sorted 15000 elements in 0.0030 seconds\n",
            "Sorted 20000 elements in 0.0044 seconds\n",
            "Sorted 25000 elements in 0.0066 seconds\n"
          ]
        },
        {
          "output_type": "error",
          "ename": "NameError",
          "evalue": "name 'plt' is not defined",
          "traceback": [
            "\u001b[0;31m---------------------------------------------------------------------------\u001b[0m",
            "\u001b[0;31mNameError\u001b[0m                                 Traceback (most recent call last)",
            "\u001b[0;32m<ipython-input-50-1467356405>\u001b[0m in \u001b[0;36m<cell line: 0>\u001b[0;34m()\u001b[0m\n\u001b[1;32m     11\u001b[0m     \u001b[0mprint\u001b[0m\u001b[0;34m(\u001b[0m\u001b[0;34mf\"Sorted {size} elements in {end - start:.4f} seconds\"\u001b[0m\u001b[0;34m)\u001b[0m\u001b[0;34m\u001b[0m\u001b[0;34m\u001b[0m\u001b[0m\n\u001b[1;32m     12\u001b[0m \u001b[0;34m\u001b[0m\u001b[0m\n\u001b[0;32m---> 13\u001b[0;31m \u001b[0mplt\u001b[0m\u001b[0;34m.\u001b[0m\u001b[0mfigure\u001b[0m\u001b[0;34m(\u001b[0m\u001b[0mfigsize\u001b[0m\u001b[0;34m=\u001b[0m\u001b[0;34m(\u001b[0m\u001b[0;36m10\u001b[0m\u001b[0;34m,\u001b[0m \u001b[0;36m5\u001b[0m\u001b[0;34m)\u001b[0m\u001b[0;34m)\u001b[0m\u001b[0;34m\u001b[0m\u001b[0;34m\u001b[0m\u001b[0m\n\u001b[0m\u001b[1;32m     14\u001b[0m \u001b[0mplt\u001b[0m\u001b[0;34m.\u001b[0m\u001b[0mplot\u001b[0m\u001b[0;34m(\u001b[0m\u001b[0msizes\u001b[0m\u001b[0;34m,\u001b[0m \u001b[0mtimes\u001b[0m\u001b[0;34m,\u001b[0m \u001b[0mmarker\u001b[0m\u001b[0;34m=\u001b[0m\u001b[0;34m'o'\u001b[0m\u001b[0;34m,\u001b[0m \u001b[0mlinestyle\u001b[0m\u001b[0;34m=\u001b[0m\u001b[0;34m'-'\u001b[0m\u001b[0;34m,\u001b[0m \u001b[0mcolor\u001b[0m\u001b[0;34m=\u001b[0m\u001b[0;34m'b'\u001b[0m\u001b[0;34m)\u001b[0m\u001b[0;34m\u001b[0m\u001b[0;34m\u001b[0m\u001b[0m\n\u001b[1;32m     15\u001b[0m \u001b[0mplt\u001b[0m\u001b[0;34m.\u001b[0m\u001b[0mxlabel\u001b[0m\u001b[0;34m(\u001b[0m\u001b[0;34m\"Number of Elements\"\u001b[0m\u001b[0;34m)\u001b[0m\u001b[0;34m\u001b[0m\u001b[0;34m\u001b[0m\u001b[0m\n",
            "\u001b[0;31mNameError\u001b[0m: name 'plt' is not defined"
          ]
        }
      ]
    },
    {
      "cell_type": "code",
      "source": [
        "print(\"\\nQ13: Student Marks Dictionary\")\n",
        "students = {\n",
        "    \"Alice\": [78, 85, 92, 88, 76],\n",
        "    \"Bob\": [67, 73, 70, 60, 68],\n",
        "    \"Charlie\": [90, 91, 85, 89, 95],\n",
        "    \"David\": [55, 60, 58, 54, 52]\n",
        "}\n",
        "averages = {name: sum(marks)/len(marks) for name, marks in students.items()}\n",
        "max_student = max(averages, key=averages.get)\n",
        "min_student = min(averages, key=averages.get)\n",
        "print(f\"Highest Average: {max_student} with {averages[max_student]:.2f}\")\n",
        "print(f\"Lowest Average: {min_student} with {averages[min_student]:.2f}\")\n"
      ],
      "metadata": {
        "colab": {
          "base_uri": "https://localhost:8080/"
        },
        "id": "4MdONUBczRe8",
        "outputId": "df8bde72-360e-40e2-beac-6282e129b1a9"
      },
      "execution_count": 51,
      "outputs": [
        {
          "output_type": "stream",
          "name": "stdout",
          "text": [
            "\n",
            "Q13: Student Marks Dictionary\n",
            "Highest Average: Charlie with 90.00\n",
            "Lowest Average: David with 55.80\n"
          ]
        }
      ]
    },
    {
      "cell_type": "code",
      "source": [],
      "metadata": {
        "id": "MpM5t9oBzRcF"
      },
      "execution_count": null,
      "outputs": []
    },
    {
      "cell_type": "code",
      "source": [],
      "metadata": {
        "id": "sfqkY6yqzRYx"
      },
      "execution_count": null,
      "outputs": []
    },
    {
      "cell_type": "code",
      "source": [],
      "metadata": {
        "id": "A6duaNlZzRK1"
      },
      "execution_count": null,
      "outputs": []
    }
  ]
}