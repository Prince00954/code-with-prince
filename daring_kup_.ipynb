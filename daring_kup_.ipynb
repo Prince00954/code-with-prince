{
  "nbformat": 4,
  "nbformat_minor": 0,
  "metadata": {
    "colab": {
      "provenance": [],
      "authorship_tag": "ABX9TyMrSE2M6Ko8lonoGbViqAr8",
      "include_colab_link": true
    },
    "kernelspec": {
      "name": "python3",
      "display_name": "Python 3"
    },
    "language_info": {
      "name": "python"
    }
  },
  "cells": [
    {
      "cell_type": "markdown",
      "metadata": {
        "id": "view-in-github",
        "colab_type": "text"
      },
      "source": [
        "<a href=\"https://colab.research.google.com/github/Prince00954/code-with-prince/blob/main/daring_kup_.ipynb\" target=\"_parent\"><img src=\"https://colab.research.google.com/assets/colab-badge.svg\" alt=\"Open In Colab\"/></a>"
      ]
    },
    {
      "cell_type": "code",
      "execution_count": null,
      "metadata": {
        "id": "dkzJGiT2Q50H"
      },
      "outputs": [],
      "source": []
    },
    {
      "cell_type": "markdown",
      "source": [
        "// C++ code\n",
        "//\n",
        "int led1 = 12;\n",
        "int led2=11;\n",
        "void setup ()\n",
        "{\n",
        "  pinMode (led1, OUTPUT) ;\n",
        "  pinMode (led2, OUTPUT) ;\n",
        "}\n",
        "\n",
        "void loop ()\n",
        "{\n",
        "  \tdigitalWrite(led1, HIGH);\n",
        "\tdelay(400); // Wait for 1000 millisecond(s)\n",
        "\tdigitalWrite(led1, LOW);\n",
        "\tdigitalWrite(led2, HIGH);\n",
        "\tdelay (400); // Wait for 1000 millisecond(s)\n",
        "\tdigitalWrite(led2, LOW);\n",
        "}"
      ],
      "metadata": {
        "id": "J652ov4iQ6fs"
      }
    },
    {
      "cell_type": "markdown",
      "source": [],
      "metadata": {
        "id": "gnYXiGd3RITf"
      }
    }
  ]
}